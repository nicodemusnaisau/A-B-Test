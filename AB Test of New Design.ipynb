{
 "cells": [
  {
   "cell_type": "markdown",
   "metadata": {
    "id": "PWRbmKf5n6qx"
   },
   "source": [
    "# A/B Test of New Design"
   ]
  },
  {
   "cell_type": "markdown",
   "metadata": {},
   "source": [
    "#### Author : Nicodemus Naisau (demsroadmap@gmail.com)"
   ]
  },
  {
   "cell_type": "markdown",
   "metadata": {},
   "source": [
    "<a href=\"https://nicodemusnaisau.medium.com/a-b-test-of-new-design-14211b0a5da9\" target=_blank>\n",
    "<img src=\"https://www.optimizely.com/contentassets/08726e145f1b4743a0ba2f30c0447b76/ab-testing.png\"\n",
    "     alt=\"AB img assets\"\n",
    "     style=\"float: center\" /></a>"
   ]
  },
  {
   "cell_type": "code",
   "execution_count": 1,
   "metadata": {
    "id": "bjZ40IPgnX1r"
   },
   "outputs": [],
   "source": [
    "import numpy as np\n",
    "import pandas as pd\n",
    "import scipy.stats as stats\n",
    "import statsmodels.stats.api as sms\n",
    "import matplotlib as mpl\n",
    "import matplotlib.pyplot as plt\n",
    "import seaborn as sns\n",
    "from math import ceil\n",
    "from pathlib import Path\n",
    "\n",
    "import warnings\n",
    "warnings.filterwarnings(\"ignore\") \n",
    "\n",
    "#style definition\n",
    "%matplotlib inline\n",
    "\n",
    "# Some plot styling preferences\n",
    "plt.style.use('seaborn-whitegrid')\n",
    "font = {'family' : 'Sans',\n",
    "        'weight' : 'bold',\n",
    "        'size'   : 14}\n",
    "\n",
    "mpl.rc('font', **font)"
   ]
  },
  {
   "cell_type": "code",
   "execution_count": 2,
   "metadata": {
    "colab": {
     "base_uri": "https://localhost:8080/",
     "height": 424
    },
    "id": "P21EXWLYn6I7",
    "outputId": "ea04499d-cef8-4066-878f-688b136f74a6"
   },
   "outputs": [
    {
     "data": {
      "text/html": [
       "<div>\n",
       "<style scoped>\n",
       "    .dataframe tbody tr th:only-of-type {\n",
       "        vertical-align: middle;\n",
       "    }\n",
       "\n",
       "    .dataframe tbody tr th {\n",
       "        vertical-align: top;\n",
       "    }\n",
       "\n",
       "    .dataframe thead th {\n",
       "        text-align: right;\n",
       "    }\n",
       "</style>\n",
       "<table border=\"1\" class=\"dataframe\">\n",
       "  <thead>\n",
       "    <tr style=\"text-align: right;\">\n",
       "      <th></th>\n",
       "      <th>user_id</th>\n",
       "      <th>timestamp</th>\n",
       "      <th>group</th>\n",
       "      <th>landing_page</th>\n",
       "      <th>converted</th>\n",
       "    </tr>\n",
       "  </thead>\n",
       "  <tbody>\n",
       "    <tr>\n",
       "      <th>0</th>\n",
       "      <td>851104</td>\n",
       "      <td>2017-01-21 22:11:48.556739</td>\n",
       "      <td>control</td>\n",
       "      <td>old_page</td>\n",
       "      <td>0</td>\n",
       "    </tr>\n",
       "    <tr>\n",
       "      <th>1</th>\n",
       "      <td>804228</td>\n",
       "      <td>2017-01-12 08:01:45.159739</td>\n",
       "      <td>control</td>\n",
       "      <td>old_page</td>\n",
       "      <td>0</td>\n",
       "    </tr>\n",
       "    <tr>\n",
       "      <th>2</th>\n",
       "      <td>661590</td>\n",
       "      <td>2017-01-11 16:55:06.154213</td>\n",
       "      <td>treatment</td>\n",
       "      <td>new_page</td>\n",
       "      <td>0</td>\n",
       "    </tr>\n",
       "    <tr>\n",
       "      <th>3</th>\n",
       "      <td>853541</td>\n",
       "      <td>2017-01-08 18:28:03.143765</td>\n",
       "      <td>treatment</td>\n",
       "      <td>new_page</td>\n",
       "      <td>0</td>\n",
       "    </tr>\n",
       "    <tr>\n",
       "      <th>4</th>\n",
       "      <td>864975</td>\n",
       "      <td>2017-01-21 01:52:26.210827</td>\n",
       "      <td>control</td>\n",
       "      <td>old_page</td>\n",
       "      <td>1</td>\n",
       "    </tr>\n",
       "    <tr>\n",
       "      <th>...</th>\n",
       "      <td>...</td>\n",
       "      <td>...</td>\n",
       "      <td>...</td>\n",
       "      <td>...</td>\n",
       "      <td>...</td>\n",
       "    </tr>\n",
       "    <tr>\n",
       "      <th>294473</th>\n",
       "      <td>751197</td>\n",
       "      <td>2017-01-03 22:28:38.630509</td>\n",
       "      <td>control</td>\n",
       "      <td>old_page</td>\n",
       "      <td>0</td>\n",
       "    </tr>\n",
       "    <tr>\n",
       "      <th>294474</th>\n",
       "      <td>945152</td>\n",
       "      <td>2017-01-12 00:51:57.078372</td>\n",
       "      <td>control</td>\n",
       "      <td>old_page</td>\n",
       "      <td>0</td>\n",
       "    </tr>\n",
       "    <tr>\n",
       "      <th>294475</th>\n",
       "      <td>734608</td>\n",
       "      <td>2017-01-22 11:45:03.439544</td>\n",
       "      <td>control</td>\n",
       "      <td>old_page</td>\n",
       "      <td>0</td>\n",
       "    </tr>\n",
       "    <tr>\n",
       "      <th>294476</th>\n",
       "      <td>697314</td>\n",
       "      <td>2017-01-15 01:20:28.957438</td>\n",
       "      <td>control</td>\n",
       "      <td>old_page</td>\n",
       "      <td>0</td>\n",
       "    </tr>\n",
       "    <tr>\n",
       "      <th>294477</th>\n",
       "      <td>715931</td>\n",
       "      <td>2017-01-16 12:40:24.467417</td>\n",
       "      <td>treatment</td>\n",
       "      <td>new_page</td>\n",
       "      <td>0</td>\n",
       "    </tr>\n",
       "  </tbody>\n",
       "</table>\n",
       "<p>294478 rows × 5 columns</p>\n",
       "</div>"
      ],
      "text/plain": [
       "        user_id                   timestamp      group landing_page  converted\n",
       "0        851104  2017-01-21 22:11:48.556739    control     old_page          0\n",
       "1        804228  2017-01-12 08:01:45.159739    control     old_page          0\n",
       "2        661590  2017-01-11 16:55:06.154213  treatment     new_page          0\n",
       "3        853541  2017-01-08 18:28:03.143765  treatment     new_page          0\n",
       "4        864975  2017-01-21 01:52:26.210827    control     old_page          1\n",
       "...         ...                         ...        ...          ...        ...\n",
       "294473   751197  2017-01-03 22:28:38.630509    control     old_page          0\n",
       "294474   945152  2017-01-12 00:51:57.078372    control     old_page          0\n",
       "294475   734608  2017-01-22 11:45:03.439544    control     old_page          0\n",
       "294476   697314  2017-01-15 01:20:28.957438    control     old_page          0\n",
       "294477   715931  2017-01-16 12:40:24.467417  treatment     new_page          0\n",
       "\n",
       "[294478 rows x 5 columns]"
      ]
     },
     "execution_count": 2,
     "metadata": {},
     "output_type": "execute_result"
    }
   ],
   "source": [
    "df = pd.read_csv(\"ab_data.csv\")\n",
    "df"
   ]
  },
  {
   "cell_type": "code",
   "execution_count": 3,
   "metadata": {
    "colab": {
     "base_uri": "https://localhost:8080/"
    },
    "id": "qreVI2HdoArp",
    "outputId": "a5c82948-921a-49aa-9fba-b484c8d3fcfc"
   },
   "outputs": [
    {
     "name": "stdout",
     "output_type": "stream",
     "text": [
      "4720\n"
     ]
    }
   ],
   "source": [
    "#current conversion rate = 0,13\n",
    "#expected conversion rate = 0,15\n",
    "effect_size = sms.proportion_effectsize(0.13, 0.15)    # Calculating effect size based on our expected rates\n",
    "\n",
    "required_n = sms.NormalIndPower().solve_power(\n",
    "    effect_size, \n",
    "    power=0.8, \n",
    "    alpha=0.05, \n",
    "    ratio=1\n",
    "    )                                                  # Calculating sample size needed\n",
    "\n",
    "required_n = ceil(required_n)                          # Rounding up to next whole number                          \n",
    "\n",
    "print(required_n)"
   ]
  },
  {
   "cell_type": "code",
   "execution_count": 4,
   "metadata": {
    "colab": {
     "base_uri": "https://localhost:8080/"
    },
    "id": "vsbhq9yIsRcH",
    "outputId": "3a3eb1a1-881e-48e8-a0dd-6e6af43a4472"
   },
   "outputs": [
    {
     "data": {
      "text/plain": [
       "treatment    147276\n",
       "control      147202\n",
       "Name: group, dtype: int64"
      ]
     },
     "execution_count": 4,
     "metadata": {},
     "output_type": "execute_result"
    }
   ],
   "source": [
    "df['group'].value_counts()"
   ]
  },
  {
   "cell_type": "code",
   "execution_count": 5,
   "metadata": {
    "colab": {
     "base_uri": "https://localhost:8080/"
    },
    "id": "kNetayRqsUpM",
    "outputId": "9adbcffd-b7ef-4490-8e92-199846e34c0c"
   },
   "outputs": [
    {
     "data": {
      "text/plain": [
       "old_page    147239\n",
       "new_page    147239\n",
       "Name: landing_page, dtype: int64"
      ]
     },
     "execution_count": 5,
     "metadata": {},
     "output_type": "execute_result"
    }
   ],
   "source": [
    "df['landing_page'].value_counts()"
   ]
  },
  {
   "cell_type": "code",
   "execution_count": 6,
   "metadata": {
    "colab": {
     "base_uri": "https://localhost:8080/",
     "height": 143
    },
    "id": "IH7j74qKpNuZ",
    "outputId": "625e7cec-8f49-4013-b73a-c5e80c71a3a7"
   },
   "outputs": [
    {
     "data": {
      "text/html": [
       "<div>\n",
       "<style scoped>\n",
       "    .dataframe tbody tr th:only-of-type {\n",
       "        vertical-align: middle;\n",
       "    }\n",
       "\n",
       "    .dataframe tbody tr th {\n",
       "        vertical-align: top;\n",
       "    }\n",
       "\n",
       "    .dataframe thead th {\n",
       "        text-align: right;\n",
       "    }\n",
       "</style>\n",
       "<table border=\"1\" class=\"dataframe\">\n",
       "  <thead>\n",
       "    <tr style=\"text-align: right;\">\n",
       "      <th>landing_page</th>\n",
       "      <th>new_page</th>\n",
       "      <th>old_page</th>\n",
       "    </tr>\n",
       "    <tr>\n",
       "      <th>group</th>\n",
       "      <th></th>\n",
       "      <th></th>\n",
       "    </tr>\n",
       "  </thead>\n",
       "  <tbody>\n",
       "    <tr>\n",
       "      <th>control</th>\n",
       "      <td>1928</td>\n",
       "      <td>145274</td>\n",
       "    </tr>\n",
       "    <tr>\n",
       "      <th>treatment</th>\n",
       "      <td>145311</td>\n",
       "      <td>1965</td>\n",
       "    </tr>\n",
       "  </tbody>\n",
       "</table>\n",
       "</div>"
      ],
      "text/plain": [
       "landing_page  new_page  old_page\n",
       "group                           \n",
       "control           1928    145274\n",
       "treatment       145311      1965"
      ]
     },
     "execution_count": 6,
     "metadata": {},
     "output_type": "execute_result"
    }
   ],
   "source": [
    "# To make sure all the control group are seeing the old page and viceversa\n",
    "pd.crosstab(df['group'], df['landing_page'])"
   ]
  },
  {
   "cell_type": "code",
   "execution_count": 7,
   "metadata": {
    "colab": {
     "base_uri": "https://localhost:8080/"
    },
    "id": "Pb0A6BBMq7wt",
    "outputId": "259edf5d-9f07-4640-d683-3e439450bf40"
   },
   "outputs": [
    {
     "name": "stdout",
     "output_type": "stream",
     "text": [
      "There are 3894 users that appear multiple times in the dataset\n"
     ]
    }
   ],
   "source": [
    "session_counts = df['user_id'].value_counts(ascending=False)\n",
    "multi_users = session_counts[session_counts > 1].count()\n",
    "\n",
    "print(f'There are {multi_users} users that appear multiple times in the dataset')"
   ]
  },
  {
   "cell_type": "code",
   "execution_count": 8,
   "metadata": {
    "colab": {
     "base_uri": "https://localhost:8080/"
    },
    "id": "XvFfFKMcrEqa",
    "outputId": "95ca2750-8c5f-4b35-a039-08a914024636"
   },
   "outputs": [
    {
     "name": "stdout",
     "output_type": "stream",
     "text": [
      "The updated dataset now has 286690 entries\n"
     ]
    }
   ],
   "source": [
    "users_to_drop = session_counts[session_counts > 1].index\n",
    "\n",
    "df = df[~df['user_id'].isin(users_to_drop)]\n",
    "print(f'The updated dataset now has {df.shape[0]} entries')"
   ]
  },
  {
   "cell_type": "markdown",
   "metadata": {
    "id": "6qv5P5KTrMXU"
   },
   "source": [
    "##  Sampling"
   ]
  },
  {
   "cell_type": "code",
   "execution_count": 9,
   "metadata": {
    "colab": {
     "base_uri": "https://localhost:8080/",
     "height": 424
    },
    "id": "syOBQDO5rHpn",
    "outputId": "4910e852-82be-4ad2-d219-b991dc90bcbf"
   },
   "outputs": [
    {
     "data": {
      "text/html": [
       "<div>\n",
       "<style scoped>\n",
       "    .dataframe tbody tr th:only-of-type {\n",
       "        vertical-align: middle;\n",
       "    }\n",
       "\n",
       "    .dataframe tbody tr th {\n",
       "        vertical-align: top;\n",
       "    }\n",
       "\n",
       "    .dataframe thead th {\n",
       "        text-align: right;\n",
       "    }\n",
       "</style>\n",
       "<table border=\"1\" class=\"dataframe\">\n",
       "  <thead>\n",
       "    <tr style=\"text-align: right;\">\n",
       "      <th></th>\n",
       "      <th>user_id</th>\n",
       "      <th>timestamp</th>\n",
       "      <th>group</th>\n",
       "      <th>landing_page</th>\n",
       "      <th>converted</th>\n",
       "    </tr>\n",
       "  </thead>\n",
       "  <tbody>\n",
       "    <tr>\n",
       "      <th>0</th>\n",
       "      <td>763854</td>\n",
       "      <td>2017-01-21 03:43:17.188315</td>\n",
       "      <td>control</td>\n",
       "      <td>old_page</td>\n",
       "      <td>0</td>\n",
       "    </tr>\n",
       "    <tr>\n",
       "      <th>1</th>\n",
       "      <td>690555</td>\n",
       "      <td>2017-01-18 06:38:13.079449</td>\n",
       "      <td>control</td>\n",
       "      <td>old_page</td>\n",
       "      <td>0</td>\n",
       "    </tr>\n",
       "    <tr>\n",
       "      <th>2</th>\n",
       "      <td>861520</td>\n",
       "      <td>2017-01-06 21:13:40.044766</td>\n",
       "      <td>control</td>\n",
       "      <td>old_page</td>\n",
       "      <td>0</td>\n",
       "    </tr>\n",
       "    <tr>\n",
       "      <th>3</th>\n",
       "      <td>630778</td>\n",
       "      <td>2017-01-05 16:42:36.995204</td>\n",
       "      <td>control</td>\n",
       "      <td>old_page</td>\n",
       "      <td>0</td>\n",
       "    </tr>\n",
       "    <tr>\n",
       "      <th>4</th>\n",
       "      <td>656634</td>\n",
       "      <td>2017-01-04 15:31:21.676130</td>\n",
       "      <td>control</td>\n",
       "      <td>old_page</td>\n",
       "      <td>0</td>\n",
       "    </tr>\n",
       "    <tr>\n",
       "      <th>...</th>\n",
       "      <td>...</td>\n",
       "      <td>...</td>\n",
       "      <td>...</td>\n",
       "      <td>...</td>\n",
       "      <td>...</td>\n",
       "    </tr>\n",
       "    <tr>\n",
       "      <th>9435</th>\n",
       "      <td>908512</td>\n",
       "      <td>2017-01-14 22:02:29.922674</td>\n",
       "      <td>treatment</td>\n",
       "      <td>new_page</td>\n",
       "      <td>0</td>\n",
       "    </tr>\n",
       "    <tr>\n",
       "      <th>9436</th>\n",
       "      <td>873211</td>\n",
       "      <td>2017-01-05 00:57:16.167151</td>\n",
       "      <td>treatment</td>\n",
       "      <td>new_page</td>\n",
       "      <td>0</td>\n",
       "    </tr>\n",
       "    <tr>\n",
       "      <th>9437</th>\n",
       "      <td>631276</td>\n",
       "      <td>2017-01-20 18:56:58.167809</td>\n",
       "      <td>treatment</td>\n",
       "      <td>new_page</td>\n",
       "      <td>0</td>\n",
       "    </tr>\n",
       "    <tr>\n",
       "      <th>9438</th>\n",
       "      <td>662301</td>\n",
       "      <td>2017-01-03 08:10:57.768806</td>\n",
       "      <td>treatment</td>\n",
       "      <td>new_page</td>\n",
       "      <td>0</td>\n",
       "    </tr>\n",
       "    <tr>\n",
       "      <th>9439</th>\n",
       "      <td>944623</td>\n",
       "      <td>2017-01-19 10:56:01.648653</td>\n",
       "      <td>treatment</td>\n",
       "      <td>new_page</td>\n",
       "      <td>1</td>\n",
       "    </tr>\n",
       "  </tbody>\n",
       "</table>\n",
       "<p>9440 rows × 5 columns</p>\n",
       "</div>"
      ],
      "text/plain": [
       "      user_id                   timestamp      group landing_page  converted\n",
       "0      763854  2017-01-21 03:43:17.188315    control     old_page          0\n",
       "1      690555  2017-01-18 06:38:13.079449    control     old_page          0\n",
       "2      861520  2017-01-06 21:13:40.044766    control     old_page          0\n",
       "3      630778  2017-01-05 16:42:36.995204    control     old_page          0\n",
       "4      656634  2017-01-04 15:31:21.676130    control     old_page          0\n",
       "...       ...                         ...        ...          ...        ...\n",
       "9435   908512  2017-01-14 22:02:29.922674  treatment     new_page          0\n",
       "9436   873211  2017-01-05 00:57:16.167151  treatment     new_page          0\n",
       "9437   631276  2017-01-20 18:56:58.167809  treatment     new_page          0\n",
       "9438   662301  2017-01-03 08:10:57.768806  treatment     new_page          0\n",
       "9439   944623  2017-01-19 10:56:01.648653  treatment     new_page          1\n",
       "\n",
       "[9440 rows x 5 columns]"
      ]
     },
     "execution_count": 9,
     "metadata": {},
     "output_type": "execute_result"
    }
   ],
   "source": [
    "control_sample = df[df['group'] == 'control'].sample(n=required_n, random_state=22)\n",
    "treatment_sample = df[df['group'] == 'treatment'].sample(n=required_n, random_state=22)\n",
    "\n",
    "ab_test = pd.concat([control_sample, treatment_sample], axis=0)\n",
    "ab_test.reset_index(drop=True, inplace=True)\n",
    "ab_test"
   ]
  },
  {
   "cell_type": "code",
   "execution_count": 10,
   "metadata": {
    "colab": {
     "base_uri": "https://localhost:8080/",
     "height": 143
    },
    "id": "EGwKCsotrN6l",
    "outputId": "e058dfca-e668-499f-a454-eb6ca34fbc75"
   },
   "outputs": [
    {
     "data": {
      "text/html": [
       "<div>\n",
       "<style scoped>\n",
       "    .dataframe tbody tr th:only-of-type {\n",
       "        vertical-align: middle;\n",
       "    }\n",
       "\n",
       "    .dataframe tbody tr th {\n",
       "        vertical-align: top;\n",
       "    }\n",
       "\n",
       "    .dataframe thead th {\n",
       "        text-align: right;\n",
       "    }\n",
       "</style>\n",
       "<table border=\"1\" class=\"dataframe\">\n",
       "  <thead>\n",
       "    <tr style=\"text-align: right;\">\n",
       "      <th>landing_page</th>\n",
       "      <th>new_page</th>\n",
       "      <th>old_page</th>\n",
       "    </tr>\n",
       "    <tr>\n",
       "      <th>group</th>\n",
       "      <th></th>\n",
       "      <th></th>\n",
       "    </tr>\n",
       "  </thead>\n",
       "  <tbody>\n",
       "    <tr>\n",
       "      <th>control</th>\n",
       "      <td>0</td>\n",
       "      <td>4720</td>\n",
       "    </tr>\n",
       "    <tr>\n",
       "      <th>treatment</th>\n",
       "      <td>4720</td>\n",
       "      <td>0</td>\n",
       "    </tr>\n",
       "  </tbody>\n",
       "</table>\n",
       "</div>"
      ],
      "text/plain": [
       "landing_page  new_page  old_page\n",
       "group                           \n",
       "control              0      4720\n",
       "treatment         4720         0"
      ]
     },
     "execution_count": 10,
     "metadata": {},
     "output_type": "execute_result"
    }
   ],
   "source": [
    "pd.crosstab(ab_test['group'], ab_test['landing_page'])"
   ]
  },
  {
   "cell_type": "markdown",
   "metadata": {
    "id": "BG4oe65_zkOD"
   },
   "source": [
    "## Conversion Rate"
   ]
  },
  {
   "cell_type": "code",
   "execution_count": 11,
   "metadata": {
    "colab": {
     "base_uri": "https://localhost:8080/",
     "height": 143
    },
    "id": "J8vWvRVdsKwi",
    "outputId": "fbcd66f6-30a1-4598-e856-75f01d79ab2f"
   },
   "outputs": [
    {
     "data": {
      "text/html": [
       "<style type=\"text/css\">\n",
       "</style>\n",
       "<table id=\"T_f0530\">\n",
       "  <thead>\n",
       "    <tr>\n",
       "      <th class=\"blank level0\" >&nbsp;</th>\n",
       "      <th id=\"T_f0530_level0_col0\" class=\"col_heading level0 col0\" >conversion_rate</th>\n",
       "      <th id=\"T_f0530_level0_col1\" class=\"col_heading level0 col1\" >std_deviation</th>\n",
       "      <th id=\"T_f0530_level0_col2\" class=\"col_heading level0 col2\" >std_error</th>\n",
       "    </tr>\n",
       "    <tr>\n",
       "      <th class=\"index_name level0\" >group</th>\n",
       "      <th class=\"blank col0\" >&nbsp;</th>\n",
       "      <th class=\"blank col1\" >&nbsp;</th>\n",
       "      <th class=\"blank col2\" >&nbsp;</th>\n",
       "    </tr>\n",
       "  </thead>\n",
       "  <tbody>\n",
       "    <tr>\n",
       "      <th id=\"T_f0530_level0_row0\" class=\"row_heading level0 row0\" >control</th>\n",
       "      <td id=\"T_f0530_row0_col0\" class=\"data row0 col0\" >0.123</td>\n",
       "      <td id=\"T_f0530_row0_col1\" class=\"data row0 col1\" >0.329</td>\n",
       "      <td id=\"T_f0530_row0_col2\" class=\"data row0 col2\" >0.005</td>\n",
       "    </tr>\n",
       "    <tr>\n",
       "      <th id=\"T_f0530_level0_row1\" class=\"row_heading level0 row1\" >treatment</th>\n",
       "      <td id=\"T_f0530_row1_col0\" class=\"data row1 col0\" >0.126</td>\n",
       "      <td id=\"T_f0530_row1_col1\" class=\"data row1 col1\" >0.331</td>\n",
       "      <td id=\"T_f0530_row1_col2\" class=\"data row1 col2\" >0.005</td>\n",
       "    </tr>\n",
       "  </tbody>\n",
       "</table>\n"
      ],
      "text/plain": [
       "<pandas.io.formats.style.Styler at 0x1988f035d50>"
      ]
     },
     "execution_count": 11,
     "metadata": {},
     "output_type": "execute_result"
    }
   ],
   "source": [
    "conversion_rates = ab_test.groupby('group')['converted']\n",
    "\n",
    "std_p = lambda x: np.std(x, ddof=0)              # Std. deviation of the proportion\n",
    "se_p = lambda x: stats.sem(x, ddof=0)            # Std. error of the proportion (std / sqrt(n))\n",
    "\n",
    "conversion_rates = conversion_rates.agg([np.mean, std_p, se_p])\n",
    "conversion_rates.columns = ['conversion_rate', 'std_deviation', 'std_error']\n",
    "\n",
    "\n",
    "conversion_rates.style.format('{:.3f}')"
   ]
  },
  {
   "cell_type": "code",
   "execution_count": 12,
   "metadata": {
    "id": "ZmLW6ACzuaQR"
   },
   "outputs": [],
   "source": [
    "conversion_rates = ab_test.groupby('group')['converted']\n",
    "\n",
    "std_p = lambda x: np.std(x, ddof=0)              # Std. deviation of the proportion\n",
    "se_p = lambda x: stats.sem(x, ddof=0)            # Std. error of the proportion (std / sqrt(n))\n",
    "\n",
    "conversion_rates = conversion_rates.agg([np.mean, std_p, se_p])"
   ]
  },
  {
   "cell_type": "code",
   "execution_count": 13,
   "metadata": {
    "colab": {
     "base_uri": "https://localhost:8080/",
     "height": 424
    },
    "id": "jH4ZS8eKyRTZ",
    "outputId": "f400bf8c-a914-4f0e-da87-2a94f3fd6930"
   },
   "outputs": [
    {
     "data": {
      "text/html": [
       "<div>\n",
       "<style scoped>\n",
       "    .dataframe tbody tr th:only-of-type {\n",
       "        vertical-align: middle;\n",
       "    }\n",
       "\n",
       "    .dataframe tbody tr th {\n",
       "        vertical-align: top;\n",
       "    }\n",
       "\n",
       "    .dataframe thead th {\n",
       "        text-align: right;\n",
       "    }\n",
       "</style>\n",
       "<table border=\"1\" class=\"dataframe\">\n",
       "  <thead>\n",
       "    <tr style=\"text-align: right;\">\n",
       "      <th></th>\n",
       "      <th>user_id</th>\n",
       "      <th>timestamp</th>\n",
       "      <th>group</th>\n",
       "      <th>landing_page</th>\n",
       "      <th>converted</th>\n",
       "    </tr>\n",
       "  </thead>\n",
       "  <tbody>\n",
       "    <tr>\n",
       "      <th>0</th>\n",
       "      <td>763854</td>\n",
       "      <td>2017-01-21 03:43:17.188315</td>\n",
       "      <td>control</td>\n",
       "      <td>old_page</td>\n",
       "      <td>0</td>\n",
       "    </tr>\n",
       "    <tr>\n",
       "      <th>1</th>\n",
       "      <td>690555</td>\n",
       "      <td>2017-01-18 06:38:13.079449</td>\n",
       "      <td>control</td>\n",
       "      <td>old_page</td>\n",
       "      <td>0</td>\n",
       "    </tr>\n",
       "    <tr>\n",
       "      <th>2</th>\n",
       "      <td>861520</td>\n",
       "      <td>2017-01-06 21:13:40.044766</td>\n",
       "      <td>control</td>\n",
       "      <td>old_page</td>\n",
       "      <td>0</td>\n",
       "    </tr>\n",
       "    <tr>\n",
       "      <th>3</th>\n",
       "      <td>630778</td>\n",
       "      <td>2017-01-05 16:42:36.995204</td>\n",
       "      <td>control</td>\n",
       "      <td>old_page</td>\n",
       "      <td>0</td>\n",
       "    </tr>\n",
       "    <tr>\n",
       "      <th>4</th>\n",
       "      <td>656634</td>\n",
       "      <td>2017-01-04 15:31:21.676130</td>\n",
       "      <td>control</td>\n",
       "      <td>old_page</td>\n",
       "      <td>0</td>\n",
       "    </tr>\n",
       "    <tr>\n",
       "      <th>...</th>\n",
       "      <td>...</td>\n",
       "      <td>...</td>\n",
       "      <td>...</td>\n",
       "      <td>...</td>\n",
       "      <td>...</td>\n",
       "    </tr>\n",
       "    <tr>\n",
       "      <th>4715</th>\n",
       "      <td>646677</td>\n",
       "      <td>2017-01-17 15:34:00.011127</td>\n",
       "      <td>control</td>\n",
       "      <td>old_page</td>\n",
       "      <td>0</td>\n",
       "    </tr>\n",
       "    <tr>\n",
       "      <th>4716</th>\n",
       "      <td>895315</td>\n",
       "      <td>2017-01-07 02:41:17.321930</td>\n",
       "      <td>control</td>\n",
       "      <td>old_page</td>\n",
       "      <td>0</td>\n",
       "    </tr>\n",
       "    <tr>\n",
       "      <th>4717</th>\n",
       "      <td>648194</td>\n",
       "      <td>2017-01-16 22:44:54.889419</td>\n",
       "      <td>control</td>\n",
       "      <td>old_page</td>\n",
       "      <td>0</td>\n",
       "    </tr>\n",
       "    <tr>\n",
       "      <th>4718</th>\n",
       "      <td>872383</td>\n",
       "      <td>2017-01-12 23:47:30.689899</td>\n",
       "      <td>control</td>\n",
       "      <td>old_page</td>\n",
       "      <td>0</td>\n",
       "    </tr>\n",
       "    <tr>\n",
       "      <th>4719</th>\n",
       "      <td>931083</td>\n",
       "      <td>2017-01-12 15:53:55.334840</td>\n",
       "      <td>control</td>\n",
       "      <td>old_page</td>\n",
       "      <td>0</td>\n",
       "    </tr>\n",
       "  </tbody>\n",
       "</table>\n",
       "<p>4720 rows × 5 columns</p>\n",
       "</div>"
      ],
      "text/plain": [
       "      user_id                   timestamp    group landing_page  converted\n",
       "0      763854  2017-01-21 03:43:17.188315  control     old_page          0\n",
       "1      690555  2017-01-18 06:38:13.079449  control     old_page          0\n",
       "2      861520  2017-01-06 21:13:40.044766  control     old_page          0\n",
       "3      630778  2017-01-05 16:42:36.995204  control     old_page          0\n",
       "4      656634  2017-01-04 15:31:21.676130  control     old_page          0\n",
       "...       ...                         ...      ...          ...        ...\n",
       "4715   646677  2017-01-17 15:34:00.011127  control     old_page          0\n",
       "4716   895315  2017-01-07 02:41:17.321930  control     old_page          0\n",
       "4717   648194  2017-01-16 22:44:54.889419  control     old_page          0\n",
       "4718   872383  2017-01-12 23:47:30.689899  control     old_page          0\n",
       "4719   931083  2017-01-12 15:53:55.334840  control     old_page          0\n",
       "\n",
       "[4720 rows x 5 columns]"
      ]
     },
     "execution_count": 13,
     "metadata": {},
     "output_type": "execute_result"
    }
   ],
   "source": [
    "ab_test1 = ab_test.loc[ab_test['group'] == 'control']\n",
    "ab_test1"
   ]
  },
  {
   "cell_type": "code",
   "execution_count": 14,
   "metadata": {
    "colab": {
     "base_uri": "https://localhost:8080/"
    },
    "id": "wsG-tEWUxpFW",
    "outputId": "985a09de-38ff-43c5-953b-9eac2bdf07c4"
   },
   "outputs": [
    {
     "data": {
      "text/plain": [
       "0.12330508474576271"
      ]
     },
     "execution_count": 14,
     "metadata": {},
     "output_type": "execute_result"
    }
   ],
   "source": [
    "np.mean(ab_test1.converted)"
   ]
  },
  {
   "cell_type": "code",
   "execution_count": 15,
   "metadata": {
    "colab": {
     "base_uri": "https://localhost:8080/",
     "height": 424
    },
    "id": "LNn0GoHLynjm",
    "outputId": "69451a5e-b0b9-4da0-826c-741b9c0a961a"
   },
   "outputs": [
    {
     "data": {
      "text/html": [
       "<div>\n",
       "<style scoped>\n",
       "    .dataframe tbody tr th:only-of-type {\n",
       "        vertical-align: middle;\n",
       "    }\n",
       "\n",
       "    .dataframe tbody tr th {\n",
       "        vertical-align: top;\n",
       "    }\n",
       "\n",
       "    .dataframe thead th {\n",
       "        text-align: right;\n",
       "    }\n",
       "</style>\n",
       "<table border=\"1\" class=\"dataframe\">\n",
       "  <thead>\n",
       "    <tr style=\"text-align: right;\">\n",
       "      <th></th>\n",
       "      <th>user_id</th>\n",
       "      <th>timestamp</th>\n",
       "      <th>group</th>\n",
       "      <th>landing_page</th>\n",
       "      <th>converted</th>\n",
       "    </tr>\n",
       "  </thead>\n",
       "  <tbody>\n",
       "    <tr>\n",
       "      <th>4720</th>\n",
       "      <td>860447</td>\n",
       "      <td>2017-01-11 21:20:47.193292</td>\n",
       "      <td>treatment</td>\n",
       "      <td>new_page</td>\n",
       "      <td>0</td>\n",
       "    </tr>\n",
       "    <tr>\n",
       "      <th>4721</th>\n",
       "      <td>845654</td>\n",
       "      <td>2017-01-06 21:49:33.725054</td>\n",
       "      <td>treatment</td>\n",
       "      <td>new_page</td>\n",
       "      <td>0</td>\n",
       "    </tr>\n",
       "    <tr>\n",
       "      <th>4722</th>\n",
       "      <td>833106</td>\n",
       "      <td>2017-01-11 21:56:24.637002</td>\n",
       "      <td>treatment</td>\n",
       "      <td>new_page</td>\n",
       "      <td>0</td>\n",
       "    </tr>\n",
       "    <tr>\n",
       "      <th>4723</th>\n",
       "      <td>665687</td>\n",
       "      <td>2017-01-08 04:17:45.135586</td>\n",
       "      <td>treatment</td>\n",
       "      <td>new_page</td>\n",
       "      <td>0</td>\n",
       "    </tr>\n",
       "    <tr>\n",
       "      <th>4724</th>\n",
       "      <td>658409</td>\n",
       "      <td>2017-01-22 13:18:58.765132</td>\n",
       "      <td>treatment</td>\n",
       "      <td>new_page</td>\n",
       "      <td>0</td>\n",
       "    </tr>\n",
       "    <tr>\n",
       "      <th>...</th>\n",
       "      <td>...</td>\n",
       "      <td>...</td>\n",
       "      <td>...</td>\n",
       "      <td>...</td>\n",
       "      <td>...</td>\n",
       "    </tr>\n",
       "    <tr>\n",
       "      <th>9435</th>\n",
       "      <td>908512</td>\n",
       "      <td>2017-01-14 22:02:29.922674</td>\n",
       "      <td>treatment</td>\n",
       "      <td>new_page</td>\n",
       "      <td>0</td>\n",
       "    </tr>\n",
       "    <tr>\n",
       "      <th>9436</th>\n",
       "      <td>873211</td>\n",
       "      <td>2017-01-05 00:57:16.167151</td>\n",
       "      <td>treatment</td>\n",
       "      <td>new_page</td>\n",
       "      <td>0</td>\n",
       "    </tr>\n",
       "    <tr>\n",
       "      <th>9437</th>\n",
       "      <td>631276</td>\n",
       "      <td>2017-01-20 18:56:58.167809</td>\n",
       "      <td>treatment</td>\n",
       "      <td>new_page</td>\n",
       "      <td>0</td>\n",
       "    </tr>\n",
       "    <tr>\n",
       "      <th>9438</th>\n",
       "      <td>662301</td>\n",
       "      <td>2017-01-03 08:10:57.768806</td>\n",
       "      <td>treatment</td>\n",
       "      <td>new_page</td>\n",
       "      <td>0</td>\n",
       "    </tr>\n",
       "    <tr>\n",
       "      <th>9439</th>\n",
       "      <td>944623</td>\n",
       "      <td>2017-01-19 10:56:01.648653</td>\n",
       "      <td>treatment</td>\n",
       "      <td>new_page</td>\n",
       "      <td>1</td>\n",
       "    </tr>\n",
       "  </tbody>\n",
       "</table>\n",
       "<p>4720 rows × 5 columns</p>\n",
       "</div>"
      ],
      "text/plain": [
       "      user_id                   timestamp      group landing_page  converted\n",
       "4720   860447  2017-01-11 21:20:47.193292  treatment     new_page          0\n",
       "4721   845654  2017-01-06 21:49:33.725054  treatment     new_page          0\n",
       "4722   833106  2017-01-11 21:56:24.637002  treatment     new_page          0\n",
       "4723   665687  2017-01-08 04:17:45.135586  treatment     new_page          0\n",
       "4724   658409  2017-01-22 13:18:58.765132  treatment     new_page          0\n",
       "...       ...                         ...        ...          ...        ...\n",
       "9435   908512  2017-01-14 22:02:29.922674  treatment     new_page          0\n",
       "9436   873211  2017-01-05 00:57:16.167151  treatment     new_page          0\n",
       "9437   631276  2017-01-20 18:56:58.167809  treatment     new_page          0\n",
       "9438   662301  2017-01-03 08:10:57.768806  treatment     new_page          0\n",
       "9439   944623  2017-01-19 10:56:01.648653  treatment     new_page          1\n",
       "\n",
       "[4720 rows x 5 columns]"
      ]
     },
     "execution_count": 15,
     "metadata": {},
     "output_type": "execute_result"
    }
   ],
   "source": [
    "ab_test2 = ab_test.loc[ab_test['group'] == 'treatment']\n",
    "ab_test2\n",
    "#"
   ]
  },
  {
   "cell_type": "code",
   "execution_count": 16,
   "metadata": {
    "colab": {
     "base_uri": "https://localhost:8080/"
    },
    "id": "TOPOUPUMWx1r",
    "outputId": "c8dbd444-46ff-4318-96fd-e0e8feb5bec0"
   },
   "outputs": [
    {
     "data": {
      "text/plain": [
       "0.125635593220339"
      ]
     },
     "execution_count": 16,
     "metadata": {},
     "output_type": "execute_result"
    }
   ],
   "source": [
    "np.mean(ab_test2.converted)"
   ]
  },
  {
   "cell_type": "code",
   "execution_count": 21,
   "metadata": {
    "colab": {
     "base_uri": "https://localhost:8080/",
     "height": 494
    },
    "id": "Eqe7OzzHzYPT",
    "outputId": "b796a643-0172-47c9-b2b0-d2df40ee19ab"
   },
   "outputs": [
    {
     "data": {
      "image/png": "[encoded data removed]",
      "text/plain": [
       "<Figure size 800x600 with 1 Axes>"
      ]
     },
     "metadata": {},
     "output_type": "display_data"
    }
   ],
   "source": [
    "plt.figure(figsize=(8,6))\n",
    "\n",
    "ax = sns.barplot(x=ab_test['group'], y=ab_test['converted'], ci=False,palette=\"YlGnBu_r\")\n",
    "\n",
    "\n",
    "for spine in ['top', 'right']:\n",
    "    ax.spines[spine].set_visible(False)\n",
    "\n",
    "plt.ylim(0, 0.17)\n",
    "plt.xlabel('Group', labelpad=15)\n",
    "plt.ylabel('Converted (proportion)', labelpad=15)    \n",
    "    \n",
    "ax.set_title(\n",
    "        \"Conversion rate by group\",\n",
    "        fontdict={\"fontweight\": \"bold\"},\n",
    "        color='black'\n",
    "    )\n",
    "plt.savefig(\n",
    "        Path(\".\") / \"plots\" / f\"conversion_rate_by_group.png\",\n",
    "        bbox_inches=\"tight\",\n",
    "        dpi=200,\n",
    "    )\n",
    " # gives room for the annotations\n",
    "\n"
   ]
  },
  {
   "cell_type": "markdown",
   "metadata": {
    "id": "4IdIodQf2391"
   },
   "source": [
    "## Test Hypothesis"
   ]
  },
  {
   "cell_type": "markdown",
   "metadata": {
    "id": "KI4Av-yxFe0B"
   },
   "source": [
    "![Screenshot 2022-12-19 at 17.56.10.png](data:image/png;base64,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)"
   ]
  },
  {
   "cell_type": "code",
   "execution_count": 18,
   "metadata": {
    "colab": {
     "base_uri": "https://localhost:8080/"
    },
    "id": "N9cXVrUHXZIy",
    "outputId": "8467c978-48e9-4b0c-d49c-ea3326f176c9"
   },
   "outputs": [
    {
     "data": {
      "text/plain": [
       "0       0\n",
       "1       0\n",
       "2       0\n",
       "3       0\n",
       "4       0\n",
       "       ..\n",
       "4715    0\n",
       "4716    0\n",
       "4717    0\n",
       "4718    0\n",
       "4719    0\n",
       "Name: converted, Length: 4720, dtype: int64"
      ]
     },
     "execution_count": 18,
     "metadata": {},
     "output_type": "execute_result"
    }
   ],
   "source": [
    "from statsmodels.stats.proportion import proportions_ztest, proportion_confint\n",
    "control_results = ab_test[ab_test['group'] == 'control']['converted']\n",
    "control_results"
   ]
  },
  {
   "cell_type": "code",
   "execution_count": 19,
   "metadata": {
    "colab": {
     "base_uri": "https://localhost:8080/"
    },
    "id": "vgdCd5Eu23Vb",
    "outputId": "cbf5cef7-9a03-4710-c270-09ec10d0f825"
   },
   "outputs": [
    {
     "data": {
      "text/plain": [
       "4720    0\n",
       "4721    0\n",
       "4722    0\n",
       "4723    0\n",
       "4724    0\n",
       "       ..\n",
       "9435    0\n",
       "9436    0\n",
       "9437    0\n",
       "9438    0\n",
       "9439    1\n",
       "Name: converted, Length: 4720, dtype: int64"
      ]
     },
     "execution_count": 19,
     "metadata": {},
     "output_type": "execute_result"
    }
   ],
   "source": [
    "treatment_results = ab_test[ab_test['group'] == 'treatment']['converted']\n",
    "treatment_results"
   ]
  },
  {
   "cell_type": "code",
   "execution_count": 20,
   "metadata": {
    "colab": {
     "base_uri": "https://localhost:8080/"
    },
    "id": "Ho7WvyUHz-0U",
    "outputId": "58ece770-46e3-48e3-f5e8-5a43fdeace62"
   },
   "outputs": [
    {
     "name": "stdout",
     "output_type": "stream",
     "text": [
      "p-value: 0.732\n"
     ]
    }
   ],
   "source": [
    "n_con = control_results.count() #4719\n",
    "n_treat = treatment_results.count()  #4719\n",
    "successes = [control_results.sum(), treatment_results.sum()] #jmlh yg transaksi brp\n",
    "nobs = [n_con, n_treat]\n",
    "\n",
    "z_stat, pval = proportions_ztest(successes, nobs=nobs)\n",
    "#(lower_con, lower_treat), (upper_con, upper_treat) = proportion_confint(successes, nobs=nobs, alpha=0.05)\n",
    "\n",
    "print(f'p-value: {pval:.3f}')"
   ]
  },
  {
   "cell_type": "markdown",
   "metadata": {},
   "source": [
    "## Results"
   ]
  },
  {
   "cell_type": "markdown",
   "metadata": {},
   "source": [
    "- The p-value for the test was 0.732, which is above the alpha level of 0.05. Therefore, **we cannot reject the null hypothesis**. \n",
    "- This suggests that the **new design is not significantly different from the current design** in terms of performance."
   ]
  }
 ],
 "metadata": {
  "colab": {
   "provenance": []
  },
  "kernelspec": {
   "display_name": "env_d",
   "language": "python",
   "name": "env_d"
  },
  "language_info": {
   "codemirror_mode": {
    "name": "ipython",
    "version": 3
   },
   "file_extension": ".py",
   "mimetype": "text/x-python",
   "name": "python",
   "nbconvert_exporter": "python",
   "pygments_lexer": "ipython3",
   "version": "3.11.0"
  }
 },
 "nbformat": 4,
 "nbformat_minor": 1
}
